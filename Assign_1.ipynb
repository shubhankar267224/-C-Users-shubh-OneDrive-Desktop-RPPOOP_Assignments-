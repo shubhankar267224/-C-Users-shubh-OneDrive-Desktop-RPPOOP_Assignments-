{
 "cells": [
  {
   "cell_type": "code",
   "execution_count": 1,
   "id": "5876fcd6",
   "metadata": {},
   "outputs": [
    {
     "name": "stdout",
     "output_type": "stream",
     "text": [
      "Tommy is eating.\n",
      "Tommy is barking.\n",
      "Sparrow is eating.\n",
      "Sparrow is flying.\n",
      "Messy is eating.\n",
      "Messy is feeding.\n",
      "Messy is meowing.\n",
      "Bessie is eating.\n",
      "Bessie is feeding.\n",
      "Bessie is mooing.\n"
     ]
    }
   ],
   "source": [
    "# Single Inheritance\n",
    "class Animal:\n",
    "    def __init__(self, name):\n",
    "        self.name = name\n",
    "\n",
    "    def eat(self):\n",
    "        print(f\"{self.name} is eating.\")\n",
    "\n",
    "class Dog(Animal):\n",
    "    def bark(self):\n",
    "        print(f\"{self.name} is barking.\")\n",
    "\n",
    "dog = Dog(\"Tommy\")\n",
    "dog.eat()   \n",
    "dog.bark()  \n",
    "\n",
    "# Multiple Inheritance\n",
    "class Flyable:\n",
    "    def fly(self):\n",
    "        print(f\"{self.name} is flying.\")\n",
    "\n",
    "class Bird(Animal, Flyable):\n",
    "    def __init__(self, name):\n",
    "        super().__init__(name)\n",
    "\n",
    "bird = Bird(\"Sparrow\")\n",
    "bird.eat()  \n",
    "bird.fly()  \n",
    "\n",
    "# Multi-level Inheritance\n",
    "class Mammal(Animal):\n",
    "    def feed_young(self):\n",
    "        print(f\"{self.name} is feeding.\")\n",
    "\n",
    "class Cat(Mammal):\n",
    "    def meow(self):\n",
    "        print(f\"{self.name} is meowing.\")\n",
    "\n",
    "cat = Cat(\"Messy\")\n",
    "cat.eat()        \n",
    "cat.feed_young()  \n",
    "cat.meow()        \n",
    "\n",
    "# Hierarchical Inheritance\n",
    "class Cow(Mammal):\n",
    "    def moo(self):\n",
    "        print(f\"{self.name} is mooing.\")\n",
    "\n",
    "cow = Cow(\"Bessie\")\n",
    "cow.eat()         \n",
    "cow.feed_young()  \n",
    "cow.moo()\n"
   ]
  },
  {
   "cell_type": "code",
   "execution_count": null,
   "id": "7a13679f",
   "metadata": {},
   "outputs": [],
   "source": []
  }
 ],
 "metadata": {
  "kernelspec": {
   "display_name": "Python 3 (ipykernel)",
   "language": "python",
   "name": "python3"
  },
  "language_info": {
   "codemirror_mode": {
    "name": "ipython",
    "version": 3
   },
   "file_extension": ".py",
   "mimetype": "text/x-python",
   "name": "python",
   "nbconvert_exporter": "python",
   "pygments_lexer": "ipython3",
   "version": "3.9.13"
  }
 },
 "nbformat": 4,
 "nbformat_minor": 5
}
