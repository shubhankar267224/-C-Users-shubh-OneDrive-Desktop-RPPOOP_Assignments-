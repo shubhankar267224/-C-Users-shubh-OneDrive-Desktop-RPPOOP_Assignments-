{
 "cells": [
  {
   "cell_type": "code",
   "execution_count": 11,
   "id": "bba71741",
   "metadata": {},
   "outputs": [
    {
     "ename": "IndentationError",
     "evalue": "expected an indented block (1493880448.py, line 12)",
     "output_type": "error",
     "traceback": [
      "\u001b[1;36m  File \u001b[1;32m\"C:\\Users\\shubh\\AppData\\Local\\Temp\\ipykernel_10288\\1493880448.py\"\u001b[1;36m, line \u001b[1;32m12\u001b[0m\n\u001b[1;33m    name = name.lower()\u001b[0m\n\u001b[1;37m    ^\u001b[0m\n\u001b[1;31mIndentationError\u001b[0m\u001b[1;31m:\u001b[0m expected an indented block\n"
     ]
    }
   ],
   "source": [
    "# define a function for calculating\n",
    "# the area of a shapes\n",
    "\n",
    "\n",
    "class polygon():\n",
    "    \n",
    "\n",
    "    def calculate_area(name):\n",
    "\n",
    "# converting all characters\n",
    "# into lower cases\n",
    "    name = name.lower()\n",
    "\n",
    "# check for the conditions\n",
    "if name == \"rectangle\":\n",
    "    l = int(input(\"Enter rectangle's length: \"))\n",
    "    b = int(input(\"Enter rectangle's breadth: \"))\n",
    "\n",
    "    # calculate area of rectangle\n",
    "    rect_area = l * b\n",
    "    print(f\"The area of rectangle is {rect_area}.\")\n",
    "\n",
    "elif name == \"square\":\n",
    "    s = int(input(\"Enter square's side length: \"))\n",
    "\n",
    "# calculate area of square\n",
    "    sqt_area = s * s\n",
    "    print(f\"The area of square is {sqt_area}.\")\n",
    "\n",
    "elif name == \"triangle\":\n",
    "    h = int(input(\"Enter triangle's height length: \"))\n",
    "    b = int(input(\"Enter triangle's breadth length: \"))\n",
    "\n",
    "# calculate area of triangle\n",
    "    tri_area = 0.5 * b * h\n",
    "    print(f\"The area of triangle is {tri_area}.\")\n",
    "\n",
    "elif name == \"circle\":\n",
    "    r = int(input(\"Enter circle's radius length: \"))\n",
    "    pi = 3.14\n",
    "\n",
    "# calculate area of circle\n",
    "    circ_area = pi * r * r\n",
    "    print(f\"The area of circle is {circ_area}.\")\n",
    "\n",
    "elif name == 'parallelogram':\n",
    "    b = int(input(\"Enter parallelogram's base length: \"))\n",
    "    h = int(input(\"Enter parallelogram's height length: \"))\n",
    "    \n",
    "# calculate area of parallelogram\n",
    "    para_area = b * h\n",
    "    print(f\"The area of parallelogram is {para_area}.\")\n",
    "\n",
    "else:\n",
    "    print(\"Sorry! This shape is not available\")\n",
    "\n",
    "# driver code\n",
    "if __name__ == \"__main__\" :\n",
    "\n",
    "    print(\"Calculate Shape Area\")\n",
    "shape_name = input(\"Enter the name of shape whose area you want to find: \")\n",
    "\n",
    "# function calling\n",
    "calculate_area(shape_name)\n"
   ]
  },
  {
   "cell_type": "code",
   "execution_count": null,
   "id": "a082077a",
   "metadata": {},
   "outputs": [],
   "source": []
  },
  {
   "cell_type": "code",
   "execution_count": null,
   "id": "b8d17fc3",
   "metadata": {},
   "outputs": [],
   "source": []
  }
 ],
 "metadata": {
  "celltoolbar": "Edit Metadata",
  "kernelspec": {
   "display_name": "Python 3 (ipykernel)",
   "language": "python",
   "name": "python3"
  },
  "language_info": {
   "codemirror_mode": {
    "name": "ipython",
    "version": 3
   },
   "file_extension": ".py",
   "mimetype": "text/x-python",
   "name": "python",
   "nbconvert_exporter": "python",
   "pygments_lexer": "ipython3",
   "version": "3.9.13"
  }
 },
 "nbformat": 4,
 "nbformat_minor": 5
}
